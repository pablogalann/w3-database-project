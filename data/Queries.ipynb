{
 "cells": [
  {
   "cell_type": "code",
   "execution_count": null,
   "id": "cbb71dc4",
   "metadata": {},
   "outputs": [],
   "source": [
    "query ='''\n",
    "\n",
    "select track_name, user_rating, prime_genre\n",
    "\n",
    "        from ratings\n",
    "          \n",
    "        where price=0 and user_rating>4;\n",
    "\n",
    "\n",
    "'''\n",
    "\n",
    "\n",
    "datos=pd.read_sql(query, cursor)\n",
    "\n",
    "datos.head()"
   ]
  }
 ],
 "metadata": {
  "kernelspec": {
   "display_name": "Python 3 (ipykernel)",
   "language": "python",
   "name": "python3"
  },
  "language_info": {
   "codemirror_mode": {
    "name": "ipython",
    "version": 3
   },
   "file_extension": ".py",
   "mimetype": "text/x-python",
   "name": "python",
   "nbconvert_exporter": "python",
   "pygments_lexer": "ipython3",
   "version": "3.9.12"
  }
 },
 "nbformat": 4,
 "nbformat_minor": 5
}
